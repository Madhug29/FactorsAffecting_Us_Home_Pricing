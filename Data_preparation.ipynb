{
  "metadata": {
    "kernelspec": {
      "name": "python",
      "display_name": "Python (Pyodide)",
      "language": "python"
    },
    "language_info": {
      "codemirror_mode": {
        "name": "python",
        "version": 3
      },
      "file_extension": ".py",
      "mimetype": "text/x-python",
      "name": "python",
      "nbconvert_exporter": "python",
      "pygments_lexer": "ipython3",
      "version": "3.8"
    }
  },
  "nbformat_minor": 4,
  "nbformat": 4,
  "cells": [
    {
      "cell_type": "raw",
      "source": "Study of the effect of national factors on home prices in the US\nTask: Using publicly available data on the national factors that impact the supply and demand of homes in the US, build a data science model to study the effect of these variables on home prices.\n\nApproach: The following variables are chosen for the study:\n\nUnemployment Rate\nEmployment Rate\nPer capita GDP\nMedian Household Income\nConstruction Prices\nCPI\nInterest Rates\nThe number of new houses supplied\nWorking Population\nUrban Population\nPercentage of population above 65\nHousing subsidies\nNumber of Households\nAs a proxy for home prices, the S&P Case-Shiller Index is used.\n\nNote: Most of the data is downloaded from [https://fred.stlouisfed.org/].\n\nData for all the variables is downloaded, preprocessed, and combined to create a dataset using the Extract Transform Load (ETL) method. Data for different variables had different frequencies. So, to combine the data, the necessary interpolations are made.\n\nImporting neccessary libraries",
      "metadata": {}
    },
    {
      "cell_type": "code",
      "source": "import numpy as np\nimport pandas as pd",
      "metadata": {
        "trusted": true
      },
      "outputs": [],
      "execution_count": 117
    },
    {
      "cell_type": "raw",
      "source": "Perform ETL",
      "metadata": {}
    },
    {
      "cell_type": "code",
      "source": "# Reading CASE-SHILLER Index into a dataframe\ndf_CS = pd.read_csv('Us-Homedataset.csv', index_col='CSUSHPISA')\n# Changing dtype of date column\ndf_CS[\"DATE\"] = pd.to_datetime(df_CS[\"DATE\"])\n\n# Selecting data till JUNE 202\nmask = df_CS[\"DATE\"] <= \"2024-06-01\"\ndf_CS = df_CS[mask]\n\n#Resetting Index\ndf_CS.reset_index(inplace = True)\n#df_CS.drop(columns = [\"index\"], inplace = True)\n\n# Creating \"Year\" and \"Month\" columns\ndf_CS[\"Year\"] = pd.DatetimeIndex(df_CS[\"DATE\"]).year\ndf_CS[\"Month\"] = pd.DatetimeIndex(df_CS[\"DATE\"]).month\nprint(\"Shape of the CASE-SHILLER Index:- \", df_CS.shape)\ndf_CS.tail()",
      "metadata": {
        "trusted": true,
        "scrolled": true
      },
      "outputs": [
        {
          "name": "stdout",
          "text": "Shape of the CASE-SHILLER Index:-  (246, 17)\n",
          "output_type": "stream"
        },
        {
          "execution_count": 150,
          "output_type": "execute_result",
          "data": {
            "text/plain": "      CSUSHPISA       DATE  Year  Month  Per_Capita_GDP  working_age_pop  \\\n241  317.257000 2024-02-01  2024      2             NaN      208655500.0   \n242  318.217000 2024-03-01  2024      3             NaN      208606600.0   \n243  319.048000 2024-04-01  2024      4         68070.0      208586500.0   \n244  322.192825 2024-05-01  2024      5             NaN      208855400.0   \n245  323.786723 2024-06-01  2024      6             NaN      208928900.0   \n\n     Houses      CPI  UNRATE   EmpRate  Cons_Material  FEDFUNDS  urban_pop_us  \\\n241     8.7  311.054     3.9  71.88552        337.766      5.33          83.2   \n242     8.2  312.230     3.8  72.00176        330.965      5.33          83.2   \n243     7.7  313.207     3.9  72.02491        330.166      5.33          83.2   \n244     9.1  313.225     4.0  71.88110        329.342      5.33          83.2   \n245     9.3  313.049     4.1  71.82606        328.995      5.33          83.2   \n\n     Num_Households  median_income  Subsidy  old_age_pop  \n241          131434          74580   48.021         17.6  \n242          131434          74580   48.021         17.6  \n243          131434          74580   48.021         17.6  \n244          131434          74580   48.021         17.6  \n245          131434          74580   48.021         17.6  ",
            "text/html": "<div>\n<style scoped>\n    .dataframe tbody tr th:only-of-type {\n        vertical-align: middle;\n    }\n\n    .dataframe tbody tr th {\n        vertical-align: top;\n    }\n\n    .dataframe thead th {\n        text-align: right;\n    }\n</style>\n<table border=\"1\" class=\"dataframe\">\n  <thead>\n    <tr style=\"text-align: right;\">\n      <th></th>\n      <th>CSUSHPISA</th>\n      <th>DATE</th>\n      <th>Year</th>\n      <th>Month</th>\n      <th>Per_Capita_GDP</th>\n      <th>working_age_pop</th>\n      <th>Houses</th>\n      <th>CPI</th>\n      <th>UNRATE</th>\n      <th>EmpRate</th>\n      <th>Cons_Material</th>\n      <th>FEDFUNDS</th>\n      <th>urban_pop_us</th>\n      <th>Num_Households</th>\n      <th>median_income</th>\n      <th>Subsidy</th>\n      <th>old_age_pop</th>\n    </tr>\n  </thead>\n  <tbody>\n    <tr>\n      <th>241</th>\n      <td>317.257000</td>\n      <td>2024-02-01</td>\n      <td>2024</td>\n      <td>2</td>\n      <td>NaN</td>\n      <td>208655500.0</td>\n      <td>8.7</td>\n      <td>311.054</td>\n      <td>3.9</td>\n      <td>71.88552</td>\n      <td>337.766</td>\n      <td>5.33</td>\n      <td>83.2</td>\n      <td>131434</td>\n      <td>74580</td>\n      <td>48.021</td>\n      <td>17.6</td>\n    </tr>\n    <tr>\n      <th>242</th>\n      <td>318.217000</td>\n      <td>2024-03-01</td>\n      <td>2024</td>\n      <td>3</td>\n      <td>NaN</td>\n      <td>208606600.0</td>\n      <td>8.2</td>\n      <td>312.230</td>\n      <td>3.8</td>\n      <td>72.00176</td>\n      <td>330.965</td>\n      <td>5.33</td>\n      <td>83.2</td>\n      <td>131434</td>\n      <td>74580</td>\n      <td>48.021</td>\n      <td>17.6</td>\n    </tr>\n    <tr>\n      <th>243</th>\n      <td>319.048000</td>\n      <td>2024-04-01</td>\n      <td>2024</td>\n      <td>4</td>\n      <td>68070.0</td>\n      <td>208586500.0</td>\n      <td>7.7</td>\n      <td>313.207</td>\n      <td>3.9</td>\n      <td>72.02491</td>\n      <td>330.166</td>\n      <td>5.33</td>\n      <td>83.2</td>\n      <td>131434</td>\n      <td>74580</td>\n      <td>48.021</td>\n      <td>17.6</td>\n    </tr>\n    <tr>\n      <th>244</th>\n      <td>322.192825</td>\n      <td>2024-05-01</td>\n      <td>2024</td>\n      <td>5</td>\n      <td>NaN</td>\n      <td>208855400.0</td>\n      <td>9.1</td>\n      <td>313.225</td>\n      <td>4.0</td>\n      <td>71.88110</td>\n      <td>329.342</td>\n      <td>5.33</td>\n      <td>83.2</td>\n      <td>131434</td>\n      <td>74580</td>\n      <td>48.021</td>\n      <td>17.6</td>\n    </tr>\n    <tr>\n      <th>245</th>\n      <td>323.786723</td>\n      <td>2024-06-01</td>\n      <td>2024</td>\n      <td>6</td>\n      <td>NaN</td>\n      <td>208928900.0</td>\n      <td>9.3</td>\n      <td>313.049</td>\n      <td>4.1</td>\n      <td>71.82606</td>\n      <td>328.995</td>\n      <td>5.33</td>\n      <td>83.2</td>\n      <td>131434</td>\n      <td>74580</td>\n      <td>48.021</td>\n      <td>17.6</td>\n    </tr>\n  </tbody>\n</table>\n</div>"
          },
          "metadata": {}
        }
      ],
      "execution_count": 150
    },
    {
      "cell_type": "code",
      "source": "# Reading Unemployment Rate Data into a dataframe\ndf_unemp = pd.read_csv('Us-Homedataset.csv', usecols=['DATE', 'UNRATE'])\ndf_unemp.drop(df_unemp.index[-1], inplace=True)\nprint(\"Unemployment Rate Data:\", df_unemp.shape)\ndf_unemp.tail()",
      "metadata": {
        "trusted": true,
        "scrolled": true
      },
      "outputs": [
        {
          "name": "stdout",
          "text": "Unemployment Rate Data: (245, 2)\n",
          "output_type": "stream"
        },
        {
          "execution_count": 119,
          "output_type": "execute_result",
          "data": {
            "text/plain": "           DATE  UNRATE\n240  2024-01-01     3.7\n241  2024-02-01     3.9\n242  2024-03-01     3.8\n243  2024-04-01     3.9\n244  2024-05-01     4.0",
            "text/html": "<div>\n<style scoped>\n    .dataframe tbody tr th:only-of-type {\n        vertical-align: middle;\n    }\n\n    .dataframe tbody tr th {\n        vertical-align: top;\n    }\n\n    .dataframe thead th {\n        text-align: right;\n    }\n</style>\n<table border=\"1\" class=\"dataframe\">\n  <thead>\n    <tr style=\"text-align: right;\">\n      <th></th>\n      <th>DATE</th>\n      <th>UNRATE</th>\n    </tr>\n  </thead>\n  <tbody>\n    <tr>\n      <th>240</th>\n      <td>2024-01-01</td>\n      <td>3.7</td>\n    </tr>\n    <tr>\n      <th>241</th>\n      <td>2024-02-01</td>\n      <td>3.9</td>\n    </tr>\n    <tr>\n      <th>242</th>\n      <td>2024-03-01</td>\n      <td>3.8</td>\n    </tr>\n    <tr>\n      <th>243</th>\n      <td>2024-04-01</td>\n      <td>3.9</td>\n    </tr>\n    <tr>\n      <th>244</th>\n      <td>2024-05-01</td>\n      <td>4.0</td>\n    </tr>\n  </tbody>\n</table>\n</div>"
          },
          "metadata": {}
        }
      ],
      "execution_count": 119
    },
    {
      "cell_type": "code",
      "source": "# Reading Employment Rate Data into a dataframe\ndf_emp = pd.read_csv('Us-Homedataset.csv',  usecols=['DATE','EmpRate'])\ndf_unemp.drop(df_unemp.index[-1], inplace=True)\nprint(\"shape of the Employment Rate Data:- \", df_emp.shape)\ndf_emp.tail()",
      "metadata": {
        "trusted": true
      },
      "outputs": [
        {
          "name": "stdout",
          "text": "shape of the Employment Rate Data:-  (246, 2)\n",
          "output_type": "stream"
        },
        {
          "execution_count": 120,
          "output_type": "execute_result",
          "data": {
            "text/plain": "           DATE   EmpRate\n241  2024-02-01  71.88552\n242  2024-03-01  72.00176\n243  2024-04-01  72.02491\n244  2024-05-01  71.88110\n245  2024-06-01  71.82606",
            "text/html": "<div>\n<style scoped>\n    .dataframe tbody tr th:only-of-type {\n        vertical-align: middle;\n    }\n\n    .dataframe tbody tr th {\n        vertical-align: top;\n    }\n\n    .dataframe thead th {\n        text-align: right;\n    }\n</style>\n<table border=\"1\" class=\"dataframe\">\n  <thead>\n    <tr style=\"text-align: right;\">\n      <th></th>\n      <th>DATE</th>\n      <th>EmpRate</th>\n    </tr>\n  </thead>\n  <tbody>\n    <tr>\n      <th>241</th>\n      <td>2024-02-01</td>\n      <td>71.88552</td>\n    </tr>\n    <tr>\n      <th>242</th>\n      <td>2024-03-01</td>\n      <td>72.00176</td>\n    </tr>\n    <tr>\n      <th>243</th>\n      <td>2024-04-01</td>\n      <td>72.02491</td>\n    </tr>\n    <tr>\n      <th>244</th>\n      <td>2024-05-01</td>\n      <td>71.88110</td>\n    </tr>\n    <tr>\n      <th>245</th>\n      <td>2024-06-01</td>\n      <td>71.82606</td>\n    </tr>\n  </tbody>\n</table>\n</div>"
          },
          "metadata": {}
        }
      ],
      "execution_count": 120
    },
    {
      "cell_type": "code",
      "source": "# Reading Per Capita GDP Data into a dataframe\ndf_pcgdp = pd.read_csv(\"Us-Homedataset.csv\", usecols=['DATE', 'Per_Capita_GDP'])\nprint(\"Shape of the Per Capita GDP Data:- \", df_pcgdp.shape)\ndf_pcgdp.tail()",
      "metadata": {
        "trusted": true
      },
      "outputs": [
        {
          "name": "stdout",
          "text": "Shape of the Per Capita GDP Data:-  (246, 2)\n",
          "output_type": "stream"
        },
        {
          "execution_count": 121,
          "output_type": "execute_result",
          "data": {
            "text/plain": "           DATE  Per_Capita_GDP\n241  2024-02-01             NaN\n242  2024-03-01             NaN\n243  2024-04-01         68070.0\n244  2024-05-01             NaN\n245  2024-06-01             NaN",
            "text/html": "<div>\n<style scoped>\n    .dataframe tbody tr th:only-of-type {\n        vertical-align: middle;\n    }\n\n    .dataframe tbody tr th {\n        vertical-align: top;\n    }\n\n    .dataframe thead th {\n        text-align: right;\n    }\n</style>\n<table border=\"1\" class=\"dataframe\">\n  <thead>\n    <tr style=\"text-align: right;\">\n      <th></th>\n      <th>DATE</th>\n      <th>Per_Capita_GDP</th>\n    </tr>\n  </thead>\n  <tbody>\n    <tr>\n      <th>241</th>\n      <td>2024-02-01</td>\n      <td>NaN</td>\n    </tr>\n    <tr>\n      <th>242</th>\n      <td>2024-03-01</td>\n      <td>NaN</td>\n    </tr>\n    <tr>\n      <th>243</th>\n      <td>2024-04-01</td>\n      <td>68070.0</td>\n    </tr>\n    <tr>\n      <th>244</th>\n      <td>2024-05-01</td>\n      <td>NaN</td>\n    </tr>\n    <tr>\n      <th>245</th>\n      <td>2024-06-01</td>\n      <td>NaN</td>\n    </tr>\n  </tbody>\n</table>\n</div>"
          },
          "metadata": {}
        }
      ],
      "execution_count": 121
    },
    {
      "cell_type": "raw",
      "source": "The data is quarterly. We will impute for other months using linear interpolation after we create the final dataframe combining all the data.",
      "metadata": {}
    },
    {
      "cell_type": "code",
      "source": "# Interest Rate Data\ndf_Fed_rate = pd.read_csv(\"Us-Homedataset.csv\", usecols=['DATE', 'FEDFUNDS'])\nprint(\"Shape of the Interest rate data:- \",df_Fed_rate.shape)\ndf_Fed_rate.tail()",
      "metadata": {
        "trusted": true
      },
      "outputs": [
        {
          "name": "stdout",
          "text": "Shape of the Interest rate data:-  (246, 2)\n",
          "output_type": "stream"
        },
        {
          "execution_count": 122,
          "output_type": "execute_result",
          "data": {
            "text/plain": "           DATE  FEDFUNDS\n241  2024-02-01      5.33\n242  2024-03-01      5.33\n243  2024-04-01      5.33\n244  2024-05-01      5.33\n245  2024-06-01      5.33",
            "text/html": "<div>\n<style scoped>\n    .dataframe tbody tr th:only-of-type {\n        vertical-align: middle;\n    }\n\n    .dataframe tbody tr th {\n        vertical-align: top;\n    }\n\n    .dataframe thead th {\n        text-align: right;\n    }\n</style>\n<table border=\"1\" class=\"dataframe\">\n  <thead>\n    <tr style=\"text-align: right;\">\n      <th></th>\n      <th>DATE</th>\n      <th>FEDFUNDS</th>\n    </tr>\n  </thead>\n  <tbody>\n    <tr>\n      <th>241</th>\n      <td>2024-02-01</td>\n      <td>5.33</td>\n    </tr>\n    <tr>\n      <th>242</th>\n      <td>2024-03-01</td>\n      <td>5.33</td>\n    </tr>\n    <tr>\n      <th>243</th>\n      <td>2024-04-01</td>\n      <td>5.33</td>\n    </tr>\n    <tr>\n      <th>244</th>\n      <td>2024-05-01</td>\n      <td>5.33</td>\n    </tr>\n    <tr>\n      <th>245</th>\n      <td>2024-06-01</td>\n      <td>5.33</td>\n    </tr>\n  </tbody>\n</table>\n</div>"
          },
          "metadata": {}
        }
      ],
      "execution_count": 122
    },
    {
      "cell_type": "code",
      "source": "# Reading Construction Material Data into a dataframe\ndf_cons_price_index = pd.read_csv(\"Us-Homedataset.csv\",usecols=['DATE','Cons_Material'])\ndf_cons_price_index.drop(df_unemp.index[-1], inplace=True)\nprint(\"Shape of the Construction Material Data:- \", df_cons_price_index.shape)\ndf_cons_price_index.tail()",
      "metadata": {
        "trusted": true
      },
      "outputs": [
        {
          "name": "stdout",
          "text": "Shape of the Construction Material Data:-  (245, 2)\n",
          "output_type": "stream"
        },
        {
          "execution_count": 123,
          "output_type": "execute_result",
          "data": {
            "text/plain": "           DATE  Cons_Material\n240  2024-01-01        334.374\n241  2024-02-01        337.766\n242  2024-03-01        330.965\n244  2024-05-01        329.342\n245  2024-06-01        328.995",
            "text/html": "<div>\n<style scoped>\n    .dataframe tbody tr th:only-of-type {\n        vertical-align: middle;\n    }\n\n    .dataframe tbody tr th {\n        vertical-align: top;\n    }\n\n    .dataframe thead th {\n        text-align: right;\n    }\n</style>\n<table border=\"1\" class=\"dataframe\">\n  <thead>\n    <tr style=\"text-align: right;\">\n      <th></th>\n      <th>DATE</th>\n      <th>Cons_Material</th>\n    </tr>\n  </thead>\n  <tbody>\n    <tr>\n      <th>240</th>\n      <td>2024-01-01</td>\n      <td>334.374</td>\n    </tr>\n    <tr>\n      <th>241</th>\n      <td>2024-02-01</td>\n      <td>337.766</td>\n    </tr>\n    <tr>\n      <th>242</th>\n      <td>2024-03-01</td>\n      <td>330.965</td>\n    </tr>\n    <tr>\n      <th>244</th>\n      <td>2024-05-01</td>\n      <td>329.342</td>\n    </tr>\n    <tr>\n      <th>245</th>\n      <td>2024-06-01</td>\n      <td>328.995</td>\n    </tr>\n  </tbody>\n</table>\n</div>"
          },
          "metadata": {}
        }
      ],
      "execution_count": 123
    },
    {
      "cell_type": "code",
      "source": "# Consumer Price Index\ndf_CPI = pd.read_csv(\"Us-Homedataset.csv\",usecols= [\"DATE\", \"CPI\"])\nprint(\"Shape of the Consumer Price Index:- \", df_CPI.shape)\ndf_CPI.tail()",
      "metadata": {
        "trusted": true
      },
      "outputs": [
        {
          "name": "stdout",
          "text": "Shape of the Consumer Price Index:-  (246, 2)\n",
          "output_type": "stream"
        },
        {
          "execution_count": 124,
          "output_type": "execute_result",
          "data": {
            "text/plain": "           DATE      CPI\n241  2024-02-01  311.054\n242  2024-03-01  312.230\n243  2024-04-01  313.207\n244  2024-05-01  313.225\n245  2024-06-01  313.049",
            "text/html": "<div>\n<style scoped>\n    .dataframe tbody tr th:only-of-type {\n        vertical-align: middle;\n    }\n\n    .dataframe tbody tr th {\n        vertical-align: top;\n    }\n\n    .dataframe thead th {\n        text-align: right;\n    }\n</style>\n<table border=\"1\" class=\"dataframe\">\n  <thead>\n    <tr style=\"text-align: right;\">\n      <th></th>\n      <th>DATE</th>\n      <th>CPI</th>\n    </tr>\n  </thead>\n  <tbody>\n    <tr>\n      <th>241</th>\n      <td>2024-02-01</td>\n      <td>311.054</td>\n    </tr>\n    <tr>\n      <th>242</th>\n      <td>2024-03-01</td>\n      <td>312.230</td>\n    </tr>\n    <tr>\n      <th>243</th>\n      <td>2024-04-01</td>\n      <td>313.207</td>\n    </tr>\n    <tr>\n      <th>244</th>\n      <td>2024-05-01</td>\n      <td>313.225</td>\n    </tr>\n    <tr>\n      <th>245</th>\n      <td>2024-06-01</td>\n      <td>313.049</td>\n    </tr>\n  </tbody>\n</table>\n</div>"
          },
          "metadata": {}
        }
      ],
      "execution_count": 124
    },
    {
      "cell_type": "code",
      "source": "# Monthly new house supply\ndf_house = pd.read_csv(\"Us-Homedataset.csv\",usecols= [\"DATE\", \"Houses\"])\nprint(\"Shape of the monthly house supply data:- \", df_house.shape)\ndf_house.tail()",
      "metadata": {
        "trusted": true
      },
      "outputs": [
        {
          "name": "stdout",
          "text": "Shape of the monthly house supply data:-  (246, 2)\n",
          "output_type": "stream"
        },
        {
          "execution_count": 125,
          "output_type": "execute_result",
          "data": {
            "text/plain": "           DATE  Houses\n241  2024-02-01     8.7\n242  2024-03-01     8.2\n243  2024-04-01     7.7\n244  2024-05-01     9.1\n245  2024-06-01     9.3",
            "text/html": "<div>\n<style scoped>\n    .dataframe tbody tr th:only-of-type {\n        vertical-align: middle;\n    }\n\n    .dataframe tbody tr th {\n        vertical-align: top;\n    }\n\n    .dataframe thead th {\n        text-align: right;\n    }\n</style>\n<table border=\"1\" class=\"dataframe\">\n  <thead>\n    <tr style=\"text-align: right;\">\n      <th></th>\n      <th>DATE</th>\n      <th>Houses</th>\n    </tr>\n  </thead>\n  <tbody>\n    <tr>\n      <th>241</th>\n      <td>2024-02-01</td>\n      <td>8.7</td>\n    </tr>\n    <tr>\n      <th>242</th>\n      <td>2024-03-01</td>\n      <td>8.2</td>\n    </tr>\n    <tr>\n      <th>243</th>\n      <td>2024-04-01</td>\n      <td>7.7</td>\n    </tr>\n    <tr>\n      <th>244</th>\n      <td>2024-05-01</td>\n      <td>9.1</td>\n    </tr>\n    <tr>\n      <th>245</th>\n      <td>2024-06-01</td>\n      <td>9.3</td>\n    </tr>\n  </tbody>\n</table>\n</div>"
          },
          "metadata": {}
        }
      ],
      "execution_count": 125
    },
    {
      "cell_type": "code",
      "source": "# Population above 65\n\ndf_oldpop = pd.read_csv(\"Us-Homedataset.csv\",usecols= [\"DATE\", \"old_age_pop\"])\ndf_oldpop['DATE'] = pd.to_datetime(df_oldpop['DATE'])\ndf_oldpop['DATE'] = df_oldpop['DATE'].dt.strftime(\"%Y-%m-%d\")\nprint(\"Shape of the population data age above 65:- \", df_oldpop.shape)\ndf_oldpop.tail()",
      "metadata": {
        "trusted": true
      },
      "outputs": [
        {
          "name": "stdout",
          "text": "Shape of the population data age above 65:-  (246, 2)\n",
          "output_type": "stream"
        },
        {
          "execution_count": 126,
          "output_type": "execute_result",
          "data": {
            "text/plain": "           DATE  old_age_pop\n241  2024-02-01         17.6\n242  2024-03-01         17.6\n243  2024-04-01         17.6\n244  2024-05-01         17.6\n245  2024-06-01         17.6",
            "text/html": "<div>\n<style scoped>\n    .dataframe tbody tr th:only-of-type {\n        vertical-align: middle;\n    }\n\n    .dataframe tbody tr th {\n        vertical-align: top;\n    }\n\n    .dataframe thead th {\n        text-align: right;\n    }\n</style>\n<table border=\"1\" class=\"dataframe\">\n  <thead>\n    <tr style=\"text-align: right;\">\n      <th></th>\n      <th>DATE</th>\n      <th>old_age_pop</th>\n    </tr>\n  </thead>\n  <tbody>\n    <tr>\n      <th>241</th>\n      <td>2024-02-01</td>\n      <td>17.6</td>\n    </tr>\n    <tr>\n      <th>242</th>\n      <td>2024-03-01</td>\n      <td>17.6</td>\n    </tr>\n    <tr>\n      <th>243</th>\n      <td>2024-04-01</td>\n      <td>17.6</td>\n    </tr>\n    <tr>\n      <th>244</th>\n      <td>2024-05-01</td>\n      <td>17.6</td>\n    </tr>\n    <tr>\n      <th>245</th>\n      <td>2024-06-01</td>\n      <td>17.6</td>\n    </tr>\n  </tbody>\n</table>\n</div>"
          },
          "metadata": {}
        }
      ],
      "execution_count": 126
    },
    {
      "cell_type": "code",
      "source": "# Urban Population Percent\n\ndf_urban = pd.read_csv(\"Us-Homedataset.csv\",usecols= [\"DATE\",\"urban_pop_us\"])\ndf_urban['DATE'] = pd.to_datetime(df_urban['DATE'])\ndf_urban['DATE'] = df_urban['DATE'].dt.strftime(\"%Y-%m-%d\")\nprint(\"Shape of the urban population percent data:- \", df_urban.shape)\ndf_urban.tail()",
      "metadata": {
        "trusted": true
      },
      "outputs": [
        {
          "name": "stdout",
          "text": "Shape of the urban population percent data:-  (246, 2)\n",
          "output_type": "stream"
        },
        {
          "execution_count": 127,
          "output_type": "execute_result",
          "data": {
            "text/plain": "           DATE  urban_pop_us\n241  2024-02-01          83.2\n242  2024-03-01          83.2\n243  2024-04-01          83.2\n244  2024-05-01          83.2\n245  2024-06-01          83.2",
            "text/html": "<div>\n<style scoped>\n    .dataframe tbody tr th:only-of-type {\n        vertical-align: middle;\n    }\n\n    .dataframe tbody tr th {\n        vertical-align: top;\n    }\n\n    .dataframe thead th {\n        text-align: right;\n    }\n</style>\n<table border=\"1\" class=\"dataframe\">\n  <thead>\n    <tr style=\"text-align: right;\">\n      <th></th>\n      <th>DATE</th>\n      <th>urban_pop_us</th>\n    </tr>\n  </thead>\n  <tbody>\n    <tr>\n      <th>241</th>\n      <td>2024-02-01</td>\n      <td>83.2</td>\n    </tr>\n    <tr>\n      <th>242</th>\n      <td>2024-03-01</td>\n      <td>83.2</td>\n    </tr>\n    <tr>\n      <th>243</th>\n      <td>2024-04-01</td>\n      <td>83.2</td>\n    </tr>\n    <tr>\n      <th>244</th>\n      <td>2024-05-01</td>\n      <td>83.2</td>\n    </tr>\n    <tr>\n      <th>245</th>\n      <td>2024-06-01</td>\n      <td>83.2</td>\n    </tr>\n  </tbody>\n</table>\n</div>"
          },
          "metadata": {}
        }
      ],
      "execution_count": 127
    },
    {
      "cell_type": "code",
      "source": "# Housing Subsidies\n\ndf_subsidy = pd.read_csv(\"Us-Homedataset.csv\",usecols= [\"DATE\",\"Subsidy\"])\nprint(\"Shape of the housing subsidies:- \", df_subsidy.shape)\ndf_subsidy.tail()",
      "metadata": {
        "trusted": true
      },
      "outputs": [
        {
          "name": "stdout",
          "text": "Shape of the housing subsidies:-  (246, 2)\n",
          "output_type": "stream"
        },
        {
          "execution_count": 151,
          "output_type": "execute_result",
          "data": {
            "text/plain": "           DATE  Subsidy\n241  2024-02-01   48.021\n242  2024-03-01   48.021\n243  2024-04-01   48.021\n244  2024-05-01   48.021\n245  2024-06-01   48.021",
            "text/html": "<div>\n<style scoped>\n    .dataframe tbody tr th:only-of-type {\n        vertical-align: middle;\n    }\n\n    .dataframe tbody tr th {\n        vertical-align: top;\n    }\n\n    .dataframe thead th {\n        text-align: right;\n    }\n</style>\n<table border=\"1\" class=\"dataframe\">\n  <thead>\n    <tr style=\"text-align: right;\">\n      <th></th>\n      <th>DATE</th>\n      <th>Subsidy</th>\n    </tr>\n  </thead>\n  <tbody>\n    <tr>\n      <th>241</th>\n      <td>2024-02-01</td>\n      <td>48.021</td>\n    </tr>\n    <tr>\n      <th>242</th>\n      <td>2024-03-01</td>\n      <td>48.021</td>\n    </tr>\n    <tr>\n      <th>243</th>\n      <td>2024-04-01</td>\n      <td>48.021</td>\n    </tr>\n    <tr>\n      <th>244</th>\n      <td>2024-05-01</td>\n      <td>48.021</td>\n    </tr>\n    <tr>\n      <th>245</th>\n      <td>2024-06-01</td>\n      <td>48.021</td>\n    </tr>\n  </tbody>\n</table>\n</div>"
          },
          "metadata": {}
        }
      ],
      "execution_count": 151
    },
    {
      "cell_type": "code",
      "source": "# Real Median Household Income\n\ndf_income = pd.read_csv(\"Us-Homedataset.csv\",usecols= [\"DATE\",\"median_income\"])\nprint(\"Shape of the median household income data:- \", df_income.shape)\ndf_income.tail()",
      "metadata": {
        "trusted": true
      },
      "outputs": [
        {
          "name": "stdout",
          "text": "Shape of the median household income data:-  (246, 2)\n",
          "output_type": "stream"
        },
        {
          "execution_count": 128,
          "output_type": "execute_result",
          "data": {
            "text/plain": "           DATE  median_income\n241  2024-02-01          74580\n242  2024-03-01          74580\n243  2024-04-01          74580\n244  2024-05-01          74580\n245  2024-06-01          74580",
            "text/html": "<div>\n<style scoped>\n    .dataframe tbody tr th:only-of-type {\n        vertical-align: middle;\n    }\n\n    .dataframe tbody tr th {\n        vertical-align: top;\n    }\n\n    .dataframe thead th {\n        text-align: right;\n    }\n</style>\n<table border=\"1\" class=\"dataframe\">\n  <thead>\n    <tr style=\"text-align: right;\">\n      <th></th>\n      <th>DATE</th>\n      <th>median_income</th>\n    </tr>\n  </thead>\n  <tbody>\n    <tr>\n      <th>241</th>\n      <td>2024-02-01</td>\n      <td>74580</td>\n    </tr>\n    <tr>\n      <th>242</th>\n      <td>2024-03-01</td>\n      <td>74580</td>\n    </tr>\n    <tr>\n      <th>243</th>\n      <td>2024-04-01</td>\n      <td>74580</td>\n    </tr>\n    <tr>\n      <th>244</th>\n      <td>2024-05-01</td>\n      <td>74580</td>\n    </tr>\n    <tr>\n      <th>245</th>\n      <td>2024-06-01</td>\n      <td>74580</td>\n    </tr>\n  </tbody>\n</table>\n</div>"
          },
          "metadata": {}
        }
      ],
      "execution_count": 128
    },
    {
      "cell_type": "code",
      "source": "# Total number of households\n\ndf_households = pd.read_csv(\"Us-Homedataset.csv\",usecols= [\"DATE\",\"Num_Households\"])\nprint(\"Shape of the total households data:- \", df_households.shape)\ndf_households.tail()",
      "metadata": {
        "trusted": true
      },
      "outputs": [
        {
          "name": "stdout",
          "text": "Shape of the total households data:-  (246, 2)\n",
          "output_type": "stream"
        },
        {
          "execution_count": 129,
          "output_type": "execute_result",
          "data": {
            "text/plain": "           DATE  Num_Households\n241  2024-02-01          131434\n242  2024-03-01          131434\n243  2024-04-01          131434\n244  2024-05-01          131434\n245  2024-06-01          131434",
            "text/html": "<div>\n<style scoped>\n    .dataframe tbody tr th:only-of-type {\n        vertical-align: middle;\n    }\n\n    .dataframe tbody tr th {\n        vertical-align: top;\n    }\n\n    .dataframe thead th {\n        text-align: right;\n    }\n</style>\n<table border=\"1\" class=\"dataframe\">\n  <thead>\n    <tr style=\"text-align: right;\">\n      <th></th>\n      <th>DATE</th>\n      <th>Num_Households</th>\n    </tr>\n  </thead>\n  <tbody>\n    <tr>\n      <th>241</th>\n      <td>2024-02-01</td>\n      <td>131434</td>\n    </tr>\n    <tr>\n      <th>242</th>\n      <td>2024-03-01</td>\n      <td>131434</td>\n    </tr>\n    <tr>\n      <th>243</th>\n      <td>2024-04-01</td>\n      <td>131434</td>\n    </tr>\n    <tr>\n      <th>244</th>\n      <td>2024-05-01</td>\n      <td>131434</td>\n    </tr>\n    <tr>\n      <th>245</th>\n      <td>2024-06-01</td>\n      <td>131434</td>\n    </tr>\n  </tbody>\n</table>\n</div>"
          },
          "metadata": {}
        }
      ],
      "execution_count": 129
    },
    {
      "cell_type": "code",
      "source": "# Merging Per Capita GDP (Quarterly data)\ndf_pcgdp[\"DATE\"] = pd.to_datetime(df_pcgdp[\"DATE\"])\ndf_CS = pd.merge(df_CS,df_pcgdp, how = \"left\")\ndf_CS.head()",
      "metadata": {
        "trusted": true
      },
      "outputs": [
        {
          "execution_count": 130,
          "output_type": "execute_result",
          "data": {
            "text/plain": "   CSUSHPISA       DATE  Year  Month  Per_Capita_GDP  working_age_pop  Houses  \\\n0    141.646 2004-01-01  2004      1     52179.00000      187687969.2     3.8   \n1    143.192 2004-02-01  2004      2     52275.66667      187875451.4     3.7   \n2    145.059 2004-03-01  2004      3     52372.33333      188057722.0     3.6   \n3    146.593 2004-04-01  2004      4     52469.00000      188320169.7     4.0   \n4    148.186 2004-05-01  2004      5     52591.00000      188475810.3     3.8   \n\n     CPI  UNRATE    EmpRate  Cons_Material  FEDFUNDS  urban_pop_us  \\\n0  186.3     5.7  71.278805          150.0      1.00          79.8   \n1  186.7     5.6  71.209732          153.4      1.01          79.8   \n2  187.1     5.8  71.049780          156.5      1.00          79.8   \n3  187.4     5.6  71.181759          160.1      1.00          79.8   \n4  188.2     5.6  71.132043          162.7      1.00          79.8   \n\n   Num_Households  median_income  Subsidy  old_age_pop  \n0          112000          65760   27.201         12.3  \n1          112000          65760   27.201         12.3  \n2          112000          65760   27.201         12.3  \n3          112000          65760   27.201         12.3  \n4          112000          65760   27.201         12.3  ",
            "text/html": "<div>\n<style scoped>\n    .dataframe tbody tr th:only-of-type {\n        vertical-align: middle;\n    }\n\n    .dataframe tbody tr th {\n        vertical-align: top;\n    }\n\n    .dataframe thead th {\n        text-align: right;\n    }\n</style>\n<table border=\"1\" class=\"dataframe\">\n  <thead>\n    <tr style=\"text-align: right;\">\n      <th></th>\n      <th>CSUSHPISA</th>\n      <th>DATE</th>\n      <th>Year</th>\n      <th>Month</th>\n      <th>Per_Capita_GDP</th>\n      <th>working_age_pop</th>\n      <th>Houses</th>\n      <th>CPI</th>\n      <th>UNRATE</th>\n      <th>EmpRate</th>\n      <th>Cons_Material</th>\n      <th>FEDFUNDS</th>\n      <th>urban_pop_us</th>\n      <th>Num_Households</th>\n      <th>median_income</th>\n      <th>Subsidy</th>\n      <th>old_age_pop</th>\n    </tr>\n  </thead>\n  <tbody>\n    <tr>\n      <th>0</th>\n      <td>141.646</td>\n      <td>2004-01-01</td>\n      <td>2004</td>\n      <td>1</td>\n      <td>52179.00000</td>\n      <td>187687969.2</td>\n      <td>3.8</td>\n      <td>186.3</td>\n      <td>5.7</td>\n      <td>71.278805</td>\n      <td>150.0</td>\n      <td>1.00</td>\n      <td>79.8</td>\n      <td>112000</td>\n      <td>65760</td>\n      <td>27.201</td>\n      <td>12.3</td>\n    </tr>\n    <tr>\n      <th>1</th>\n      <td>143.192</td>\n      <td>2004-02-01</td>\n      <td>2004</td>\n      <td>2</td>\n      <td>52275.66667</td>\n      <td>187875451.4</td>\n      <td>3.7</td>\n      <td>186.7</td>\n      <td>5.6</td>\n      <td>71.209732</td>\n      <td>153.4</td>\n      <td>1.01</td>\n      <td>79.8</td>\n      <td>112000</td>\n      <td>65760</td>\n      <td>27.201</td>\n      <td>12.3</td>\n    </tr>\n    <tr>\n      <th>2</th>\n      <td>145.059</td>\n      <td>2004-03-01</td>\n      <td>2004</td>\n      <td>3</td>\n      <td>52372.33333</td>\n      <td>188057722.0</td>\n      <td>3.6</td>\n      <td>187.1</td>\n      <td>5.8</td>\n      <td>71.049780</td>\n      <td>156.5</td>\n      <td>1.00</td>\n      <td>79.8</td>\n      <td>112000</td>\n      <td>65760</td>\n      <td>27.201</td>\n      <td>12.3</td>\n    </tr>\n    <tr>\n      <th>3</th>\n      <td>146.593</td>\n      <td>2004-04-01</td>\n      <td>2004</td>\n      <td>4</td>\n      <td>52469.00000</td>\n      <td>188320169.7</td>\n      <td>4.0</td>\n      <td>187.4</td>\n      <td>5.6</td>\n      <td>71.181759</td>\n      <td>160.1</td>\n      <td>1.00</td>\n      <td>79.8</td>\n      <td>112000</td>\n      <td>65760</td>\n      <td>27.201</td>\n      <td>12.3</td>\n    </tr>\n    <tr>\n      <th>4</th>\n      <td>148.186</td>\n      <td>2004-05-01</td>\n      <td>2004</td>\n      <td>5</td>\n      <td>52591.00000</td>\n      <td>188475810.3</td>\n      <td>3.8</td>\n      <td>188.2</td>\n      <td>5.6</td>\n      <td>71.132043</td>\n      <td>162.7</td>\n      <td>1.00</td>\n      <td>79.8</td>\n      <td>112000</td>\n      <td>65760</td>\n      <td>27.201</td>\n      <td>12.3</td>\n    </tr>\n  </tbody>\n</table>\n</div>"
          },
          "metadata": {}
        }
      ],
      "execution_count": 130
    },
    {
      "cell_type": "code",
      "source": "# Concating dataframes having monthly data to create one dataframe\ndf = pd.DataFrame()\ndf_bymonth = [df_CS, df_working, df_house, df_CPI, df_unemp, df_emp, df_cons_price_index, df_Fed_rate]\nfor df1 in df_bymonth:\n    df1[\"DATE\"] = pd.to_datetime(df1[\"DATE\"])\n    df1 = df1.set_index(\"DATE\")\n    df = pd.concat([df,df1], axis = 1)\nprint(df.shape)\ndf.head()",
      "metadata": {
        "trusted": true
      },
      "outputs": [
        {
          "name": "stdout",
          "text": "(246, 23)\n",
          "output_type": "stream"
        },
        {
          "execution_count": 157,
          "output_type": "execute_result",
          "data": {
            "text/plain": "            CSUSHPISA  Year  Month  Per_Capita_GDP  working_age_pop  Houses  \\\nDATE                                                                          \n2004-01-01    141.646  2004      1     52179.00000      187687969.2     3.8   \n2004-02-01    143.192  2004      2     52275.66667      187875451.4     3.7   \n2004-03-01    145.059  2004      3     52372.33333      188057722.0     3.6   \n2004-04-01    146.593  2004      4     52469.00000      188320169.7     4.0   \n2004-05-01    148.186  2004      5     52591.00000      188475810.3     3.8   \n\n              CPI  UNRATE    EmpRate  Cons_Material  ...  median_income  \\\nDATE                                                 ...                  \n2004-01-01  186.3     5.7  71.278805          150.0  ...          65760   \n2004-02-01  186.7     5.6  71.209732          153.4  ...          65760   \n2004-03-01  187.1     5.8  71.049780          156.5  ...          65760   \n2004-04-01  187.4     5.6  71.181759          160.1  ...          65760   \n2004-05-01  188.2     5.6  71.132043          162.7  ...          65760   \n\n            Subsidy  old_age_pop  working_age_pop  Houses    CPI  UNRATE  \\\nDATE                                                                       \n2004-01-01   27.201         12.3      187687969.2     3.8  186.3     5.7   \n2004-02-01   27.201         12.3      187875451.4     3.7  186.7     5.6   \n2004-03-01   27.201         12.3      188057722.0     3.6  187.1     5.8   \n2004-04-01   27.201         12.3      188320169.7     4.0  187.4     5.6   \n2004-05-01   27.201         12.3      188475810.3     3.8  188.2     5.6   \n\n              EmpRate  Cons_Material  FEDFUNDS  \nDATE                                            \n2004-01-01  71.278805          150.0      1.00  \n2004-02-01  71.209732          153.4      1.01  \n2004-03-01  71.049780          156.5      1.00  \n2004-04-01  71.181759          160.1      1.00  \n2004-05-01  71.132043          162.7      1.00  \n\n[5 rows x 23 columns]",
            "text/html": "<div>\n<style scoped>\n    .dataframe tbody tr th:only-of-type {\n        vertical-align: middle;\n    }\n\n    .dataframe tbody tr th {\n        vertical-align: top;\n    }\n\n    .dataframe thead th {\n        text-align: right;\n    }\n</style>\n<table border=\"1\" class=\"dataframe\">\n  <thead>\n    <tr style=\"text-align: right;\">\n      <th></th>\n      <th>CSUSHPISA</th>\n      <th>Year</th>\n      <th>Month</th>\n      <th>Per_Capita_GDP</th>\n      <th>working_age_pop</th>\n      <th>Houses</th>\n      <th>CPI</th>\n      <th>UNRATE</th>\n      <th>EmpRate</th>\n      <th>Cons_Material</th>\n      <th>...</th>\n      <th>median_income</th>\n      <th>Subsidy</th>\n      <th>old_age_pop</th>\n      <th>working_age_pop</th>\n      <th>Houses</th>\n      <th>CPI</th>\n      <th>UNRATE</th>\n      <th>EmpRate</th>\n      <th>Cons_Material</th>\n      <th>FEDFUNDS</th>\n    </tr>\n    <tr>\n      <th>DATE</th>\n      <th></th>\n      <th></th>\n      <th></th>\n      <th></th>\n      <th></th>\n      <th></th>\n      <th></th>\n      <th></th>\n      <th></th>\n      <th></th>\n      <th></th>\n      <th></th>\n      <th></th>\n      <th></th>\n      <th></th>\n      <th></th>\n      <th></th>\n      <th></th>\n      <th></th>\n      <th></th>\n      <th></th>\n    </tr>\n  </thead>\n  <tbody>\n    <tr>\n      <th>2004-01-01</th>\n      <td>141.646</td>\n      <td>2004</td>\n      <td>1</td>\n      <td>52179.00000</td>\n      <td>187687969.2</td>\n      <td>3.8</td>\n      <td>186.3</td>\n      <td>5.7</td>\n      <td>71.278805</td>\n      <td>150.0</td>\n      <td>...</td>\n      <td>65760</td>\n      <td>27.201</td>\n      <td>12.3</td>\n      <td>187687969.2</td>\n      <td>3.8</td>\n      <td>186.3</td>\n      <td>5.7</td>\n      <td>71.278805</td>\n      <td>150.0</td>\n      <td>1.00</td>\n    </tr>\n    <tr>\n      <th>2004-02-01</th>\n      <td>143.192</td>\n      <td>2004</td>\n      <td>2</td>\n      <td>52275.66667</td>\n      <td>187875451.4</td>\n      <td>3.7</td>\n      <td>186.7</td>\n      <td>5.6</td>\n      <td>71.209732</td>\n      <td>153.4</td>\n      <td>...</td>\n      <td>65760</td>\n      <td>27.201</td>\n      <td>12.3</td>\n      <td>187875451.4</td>\n      <td>3.7</td>\n      <td>186.7</td>\n      <td>5.6</td>\n      <td>71.209732</td>\n      <td>153.4</td>\n      <td>1.01</td>\n    </tr>\n    <tr>\n      <th>2004-03-01</th>\n      <td>145.059</td>\n      <td>2004</td>\n      <td>3</td>\n      <td>52372.33333</td>\n      <td>188057722.0</td>\n      <td>3.6</td>\n      <td>187.1</td>\n      <td>5.8</td>\n      <td>71.049780</td>\n      <td>156.5</td>\n      <td>...</td>\n      <td>65760</td>\n      <td>27.201</td>\n      <td>12.3</td>\n      <td>188057722.0</td>\n      <td>3.6</td>\n      <td>187.1</td>\n      <td>5.8</td>\n      <td>71.049780</td>\n      <td>156.5</td>\n      <td>1.00</td>\n    </tr>\n    <tr>\n      <th>2004-04-01</th>\n      <td>146.593</td>\n      <td>2004</td>\n      <td>4</td>\n      <td>52469.00000</td>\n      <td>188320169.7</td>\n      <td>4.0</td>\n      <td>187.4</td>\n      <td>5.6</td>\n      <td>71.181759</td>\n      <td>160.1</td>\n      <td>...</td>\n      <td>65760</td>\n      <td>27.201</td>\n      <td>12.3</td>\n      <td>188320169.7</td>\n      <td>4.0</td>\n      <td>187.4</td>\n      <td>5.6</td>\n      <td>71.181759</td>\n      <td>160.1</td>\n      <td>1.00</td>\n    </tr>\n    <tr>\n      <th>2004-05-01</th>\n      <td>148.186</td>\n      <td>2004</td>\n      <td>5</td>\n      <td>52591.00000</td>\n      <td>188475810.3</td>\n      <td>3.8</td>\n      <td>188.2</td>\n      <td>5.6</td>\n      <td>71.132043</td>\n      <td>162.7</td>\n      <td>...</td>\n      <td>65760</td>\n      <td>27.201</td>\n      <td>12.3</td>\n      <td>188475810.3</td>\n      <td>3.8</td>\n      <td>188.2</td>\n      <td>5.6</td>\n      <td>71.132043</td>\n      <td>162.7</td>\n      <td>1.00</td>\n    </tr>\n  </tbody>\n</table>\n<p>5 rows × 23 columns</p>\n</div>"
          },
          "metadata": {}
        }
      ],
      "execution_count": 157
    },
    {
      "cell_type": "code",
      "source": "df = pd.read_csv('Us-Homedataset.csv')\n#Check missing values (NAN)\nprint(df.isnull().sum())",
      "metadata": {
        "trusted": true
      },
      "outputs": [
        {
          "name": "stdout",
          "text": "DATE                0\nCSUSHPISA           0\nYear                0\nMonth               0\nPer_Capita_GDP     12\nworking_age_pop     0\nHouses              0\nCPI                 0\nUNRATE              0\nEmpRate             0\nCons_Material       0\nFEDFUNDS            0\nurban_pop_us        0\nNum_Households      0\nmedian_income       0\nSubsidy             0\nold_age_pop         0\ndtype: int64\n",
          "output_type": "stream"
        }
      ],
      "execution_count": 136
    },
    {
      "cell_type": "raw",
      "source": "The \"Per_Capita_GDP\" column has missing values because the data was quarterly. The missing values in the other columns are due to the unavailability of fresh data. We will first fill in the missing values in the \"Per_Capita_GDP\" column using linear interpolation. We will drop the rows with missing values in the other columns. This means that we will use data from 2004 to 2024.\n\nInterpolation:\n\nInterpolation is a mathematical technique used to estimate missing values in a dataset based on the values of neighboring data points. It calculates intermediate values based on the existing data.",
      "metadata": {}
    },
    {
      "cell_type": "code",
      "source": "# Filling missing values in the Per_Capita_GDP column using linear interpolation\ndf['Per_Capita_GDP'] = df['Per_Capita_GDP'].interpolate(method='linear')",
      "metadata": {
        "trusted": true
      },
      "outputs": [],
      "execution_count": 166
    },
    {
      "cell_type": "code",
      "source": "df",
      "metadata": {
        "trusted": true
      },
      "outputs": [
        {
          "execution_count": 141,
          "output_type": "execute_result",
          "data": {
            "text/plain": "           DATE   CSUSHPISA  Year  Month  Per_Capita_GDP  working_age_pop  \\\n0    2004-01-01  141.646000  2004      1    52179.000000      187687969.2   \n1    2004-02-01  143.192000  2004      2    52275.666670      187875451.4   \n2    2004-03-01  145.059000  2004      3    52372.333330      188057722.0   \n3    2004-04-01  146.593000  2004      4    52469.000000      188320169.7   \n4    2004-05-01  148.186000  2004      5    52591.000000      188475810.3   \n..          ...         ...   ...    ...             ...              ...   \n241  2024-02-01  317.257000  2024      2    67804.666667      208655500.0   \n242  2024-03-01  318.217000  2024      3    67937.333333      208606600.0   \n243  2024-04-01  319.048000  2024      4    68070.000000      208586500.0   \n244  2024-05-01  322.192825  2024      5    68070.000000      208855400.0   \n245  2024-06-01  323.786723  2024      6    68070.000000      208928900.0   \n\n     Houses      CPI  UNRATE    EmpRate  Cons_Material  FEDFUNDS  \\\n0       3.8  186.300     5.7  71.278805        150.000      1.00   \n1       3.7  186.700     5.6  71.209732        153.400      1.01   \n2       3.6  187.100     5.8  71.049780        156.500      1.00   \n3       4.0  187.400     5.6  71.181759        160.100      1.00   \n4       3.8  188.200     5.6  71.132043        162.700      1.00   \n..      ...      ...     ...        ...            ...       ...   \n241     8.7  311.054     3.9  71.885520        337.766      5.33   \n242     8.2  312.230     3.8  72.001760        330.965      5.33   \n243     7.7  313.207     3.9  72.024910        330.166      5.33   \n244     9.1  313.225     4.0  71.881100        329.342      5.33   \n245     9.3  313.049     4.1  71.826060        328.995      5.33   \n\n     urban_pop_us  Num_Households  median_income  Subsidy  old_age_pop  \n0            79.8          112000          65760   27.201         12.3  \n1            79.8          112000          65760   27.201         12.3  \n2            79.8          112000          65760   27.201         12.3  \n3            79.8          112000          65760   27.201         12.3  \n4            79.8          112000          65760   27.201         12.3  \n..            ...             ...            ...      ...          ...  \n241          83.2          131434          74580   48.021         17.6  \n242          83.2          131434          74580   48.021         17.6  \n243          83.2          131434          74580   48.021         17.6  \n244          83.2          131434          74580   48.021         17.6  \n245          83.2          131434          74580   48.021         17.6  \n\n[246 rows x 17 columns]",
            "text/html": "<div>\n<style scoped>\n    .dataframe tbody tr th:only-of-type {\n        vertical-align: middle;\n    }\n\n    .dataframe tbody tr th {\n        vertical-align: top;\n    }\n\n    .dataframe thead th {\n        text-align: right;\n    }\n</style>\n<table border=\"1\" class=\"dataframe\">\n  <thead>\n    <tr style=\"text-align: right;\">\n      <th></th>\n      <th>DATE</th>\n      <th>CSUSHPISA</th>\n      <th>Year</th>\n      <th>Month</th>\n      <th>Per_Capita_GDP</th>\n      <th>working_age_pop</th>\n      <th>Houses</th>\n      <th>CPI</th>\n      <th>UNRATE</th>\n      <th>EmpRate</th>\n      <th>Cons_Material</th>\n      <th>FEDFUNDS</th>\n      <th>urban_pop_us</th>\n      <th>Num_Households</th>\n      <th>median_income</th>\n      <th>Subsidy</th>\n      <th>old_age_pop</th>\n    </tr>\n  </thead>\n  <tbody>\n    <tr>\n      <th>0</th>\n      <td>2004-01-01</td>\n      <td>141.646000</td>\n      <td>2004</td>\n      <td>1</td>\n      <td>52179.000000</td>\n      <td>187687969.2</td>\n      <td>3.8</td>\n      <td>186.300</td>\n      <td>5.7</td>\n      <td>71.278805</td>\n      <td>150.000</td>\n      <td>1.00</td>\n      <td>79.8</td>\n      <td>112000</td>\n      <td>65760</td>\n      <td>27.201</td>\n      <td>12.3</td>\n    </tr>\n    <tr>\n      <th>1</th>\n      <td>2004-02-01</td>\n      <td>143.192000</td>\n      <td>2004</td>\n      <td>2</td>\n      <td>52275.666670</td>\n      <td>187875451.4</td>\n      <td>3.7</td>\n      <td>186.700</td>\n      <td>5.6</td>\n      <td>71.209732</td>\n      <td>153.400</td>\n      <td>1.01</td>\n      <td>79.8</td>\n      <td>112000</td>\n      <td>65760</td>\n      <td>27.201</td>\n      <td>12.3</td>\n    </tr>\n    <tr>\n      <th>2</th>\n      <td>2004-03-01</td>\n      <td>145.059000</td>\n      <td>2004</td>\n      <td>3</td>\n      <td>52372.333330</td>\n      <td>188057722.0</td>\n      <td>3.6</td>\n      <td>187.100</td>\n      <td>5.8</td>\n      <td>71.049780</td>\n      <td>156.500</td>\n      <td>1.00</td>\n      <td>79.8</td>\n      <td>112000</td>\n      <td>65760</td>\n      <td>27.201</td>\n      <td>12.3</td>\n    </tr>\n    <tr>\n      <th>3</th>\n      <td>2004-04-01</td>\n      <td>146.593000</td>\n      <td>2004</td>\n      <td>4</td>\n      <td>52469.000000</td>\n      <td>188320169.7</td>\n      <td>4.0</td>\n      <td>187.400</td>\n      <td>5.6</td>\n      <td>71.181759</td>\n      <td>160.100</td>\n      <td>1.00</td>\n      <td>79.8</td>\n      <td>112000</td>\n      <td>65760</td>\n      <td>27.201</td>\n      <td>12.3</td>\n    </tr>\n    <tr>\n      <th>4</th>\n      <td>2004-05-01</td>\n      <td>148.186000</td>\n      <td>2004</td>\n      <td>5</td>\n      <td>52591.000000</td>\n      <td>188475810.3</td>\n      <td>3.8</td>\n      <td>188.200</td>\n      <td>5.6</td>\n      <td>71.132043</td>\n      <td>162.700</td>\n      <td>1.00</td>\n      <td>79.8</td>\n      <td>112000</td>\n      <td>65760</td>\n      <td>27.201</td>\n      <td>12.3</td>\n    </tr>\n    <tr>\n      <th>...</th>\n      <td>...</td>\n      <td>...</td>\n      <td>...</td>\n      <td>...</td>\n      <td>...</td>\n      <td>...</td>\n      <td>...</td>\n      <td>...</td>\n      <td>...</td>\n      <td>...</td>\n      <td>...</td>\n      <td>...</td>\n      <td>...</td>\n      <td>...</td>\n      <td>...</td>\n      <td>...</td>\n      <td>...</td>\n    </tr>\n    <tr>\n      <th>241</th>\n      <td>2024-02-01</td>\n      <td>317.257000</td>\n      <td>2024</td>\n      <td>2</td>\n      <td>67804.666667</td>\n      <td>208655500.0</td>\n      <td>8.7</td>\n      <td>311.054</td>\n      <td>3.9</td>\n      <td>71.885520</td>\n      <td>337.766</td>\n      <td>5.33</td>\n      <td>83.2</td>\n      <td>131434</td>\n      <td>74580</td>\n      <td>48.021</td>\n      <td>17.6</td>\n    </tr>\n    <tr>\n      <th>242</th>\n      <td>2024-03-01</td>\n      <td>318.217000</td>\n      <td>2024</td>\n      <td>3</td>\n      <td>67937.333333</td>\n      <td>208606600.0</td>\n      <td>8.2</td>\n      <td>312.230</td>\n      <td>3.8</td>\n      <td>72.001760</td>\n      <td>330.965</td>\n      <td>5.33</td>\n      <td>83.2</td>\n      <td>131434</td>\n      <td>74580</td>\n      <td>48.021</td>\n      <td>17.6</td>\n    </tr>\n    <tr>\n      <th>243</th>\n      <td>2024-04-01</td>\n      <td>319.048000</td>\n      <td>2024</td>\n      <td>4</td>\n      <td>68070.000000</td>\n      <td>208586500.0</td>\n      <td>7.7</td>\n      <td>313.207</td>\n      <td>3.9</td>\n      <td>72.024910</td>\n      <td>330.166</td>\n      <td>5.33</td>\n      <td>83.2</td>\n      <td>131434</td>\n      <td>74580</td>\n      <td>48.021</td>\n      <td>17.6</td>\n    </tr>\n    <tr>\n      <th>244</th>\n      <td>2024-05-01</td>\n      <td>322.192825</td>\n      <td>2024</td>\n      <td>5</td>\n      <td>68070.000000</td>\n      <td>208855400.0</td>\n      <td>9.1</td>\n      <td>313.225</td>\n      <td>4.0</td>\n      <td>71.881100</td>\n      <td>329.342</td>\n      <td>5.33</td>\n      <td>83.2</td>\n      <td>131434</td>\n      <td>74580</td>\n      <td>48.021</td>\n      <td>17.6</td>\n    </tr>\n    <tr>\n      <th>245</th>\n      <td>2024-06-01</td>\n      <td>323.786723</td>\n      <td>2024</td>\n      <td>6</td>\n      <td>68070.000000</td>\n      <td>208928900.0</td>\n      <td>9.3</td>\n      <td>313.049</td>\n      <td>4.1</td>\n      <td>71.826060</td>\n      <td>328.995</td>\n      <td>5.33</td>\n      <td>83.2</td>\n      <td>131434</td>\n      <td>74580</td>\n      <td>48.021</td>\n      <td>17.6</td>\n    </tr>\n  </tbody>\n</table>\n<p>246 rows × 17 columns</p>\n</div>"
          },
          "metadata": {}
        }
      ],
      "execution_count": 141
    },
    {
      "cell_type": "code",
      "source": "df.dropna(inplace = True)",
      "metadata": {
        "trusted": true
      },
      "outputs": [],
      "execution_count": 142
    },
    {
      "cell_type": "code",
      "source": "df.isna().sum()",
      "metadata": {
        "trusted": true
      },
      "outputs": [
        {
          "execution_count": 143,
          "output_type": "execute_result",
          "data": {
            "text/plain": "DATE               0\nCSUSHPISA          0\nYear               0\nMonth              0\nPer_Capita_GDP     0\nworking_age_pop    0\nHouses             0\nCPI                0\nUNRATE             0\nEmpRate            0\nCons_Material      0\nFEDFUNDS           0\nurban_pop_us       0\nNum_Households     0\nmedian_income      0\nSubsidy            0\nold_age_pop        0\ndtype: int64"
          },
          "metadata": {}
        }
      ],
      "execution_count": 143
    },
    {
      "cell_type": "code",
      "source": "df",
      "metadata": {
        "trusted": true
      },
      "outputs": [
        {
          "execution_count": 144,
          "output_type": "execute_result",
          "data": {
            "text/plain": "           DATE   CSUSHPISA  Year  Month  Per_Capita_GDP  working_age_pop  \\\n0    2004-01-01  141.646000  2004      1    52179.000000      187687969.2   \n1    2004-02-01  143.192000  2004      2    52275.666670      187875451.4   \n2    2004-03-01  145.059000  2004      3    52372.333330      188057722.0   \n3    2004-04-01  146.593000  2004      4    52469.000000      188320169.7   \n4    2004-05-01  148.186000  2004      5    52591.000000      188475810.3   \n..          ...         ...   ...    ...             ...              ...   \n241  2024-02-01  317.257000  2024      2    67804.666667      208655500.0   \n242  2024-03-01  318.217000  2024      3    67937.333333      208606600.0   \n243  2024-04-01  319.048000  2024      4    68070.000000      208586500.0   \n244  2024-05-01  322.192825  2024      5    68070.000000      208855400.0   \n245  2024-06-01  323.786723  2024      6    68070.000000      208928900.0   \n\n     Houses      CPI  UNRATE    EmpRate  Cons_Material  FEDFUNDS  \\\n0       3.8  186.300     5.7  71.278805        150.000      1.00   \n1       3.7  186.700     5.6  71.209732        153.400      1.01   \n2       3.6  187.100     5.8  71.049780        156.500      1.00   \n3       4.0  187.400     5.6  71.181759        160.100      1.00   \n4       3.8  188.200     5.6  71.132043        162.700      1.00   \n..      ...      ...     ...        ...            ...       ...   \n241     8.7  311.054     3.9  71.885520        337.766      5.33   \n242     8.2  312.230     3.8  72.001760        330.965      5.33   \n243     7.7  313.207     3.9  72.024910        330.166      5.33   \n244     9.1  313.225     4.0  71.881100        329.342      5.33   \n245     9.3  313.049     4.1  71.826060        328.995      5.33   \n\n     urban_pop_us  Num_Households  median_income  Subsidy  old_age_pop  \n0            79.8          112000          65760   27.201         12.3  \n1            79.8          112000          65760   27.201         12.3  \n2            79.8          112000          65760   27.201         12.3  \n3            79.8          112000          65760   27.201         12.3  \n4            79.8          112000          65760   27.201         12.3  \n..            ...             ...            ...      ...          ...  \n241          83.2          131434          74580   48.021         17.6  \n242          83.2          131434          74580   48.021         17.6  \n243          83.2          131434          74580   48.021         17.6  \n244          83.2          131434          74580   48.021         17.6  \n245          83.2          131434          74580   48.021         17.6  \n\n[246 rows x 17 columns]",
            "text/html": "<div>\n<style scoped>\n    .dataframe tbody tr th:only-of-type {\n        vertical-align: middle;\n    }\n\n    .dataframe tbody tr th {\n        vertical-align: top;\n    }\n\n    .dataframe thead th {\n        text-align: right;\n    }\n</style>\n<table border=\"1\" class=\"dataframe\">\n  <thead>\n    <tr style=\"text-align: right;\">\n      <th></th>\n      <th>DATE</th>\n      <th>CSUSHPISA</th>\n      <th>Year</th>\n      <th>Month</th>\n      <th>Per_Capita_GDP</th>\n      <th>working_age_pop</th>\n      <th>Houses</th>\n      <th>CPI</th>\n      <th>UNRATE</th>\n      <th>EmpRate</th>\n      <th>Cons_Material</th>\n      <th>FEDFUNDS</th>\n      <th>urban_pop_us</th>\n      <th>Num_Households</th>\n      <th>median_income</th>\n      <th>Subsidy</th>\n      <th>old_age_pop</th>\n    </tr>\n  </thead>\n  <tbody>\n    <tr>\n      <th>0</th>\n      <td>2004-01-01</td>\n      <td>141.646000</td>\n      <td>2004</td>\n      <td>1</td>\n      <td>52179.000000</td>\n      <td>187687969.2</td>\n      <td>3.8</td>\n      <td>186.300</td>\n      <td>5.7</td>\n      <td>71.278805</td>\n      <td>150.000</td>\n      <td>1.00</td>\n      <td>79.8</td>\n      <td>112000</td>\n      <td>65760</td>\n      <td>27.201</td>\n      <td>12.3</td>\n    </tr>\n    <tr>\n      <th>1</th>\n      <td>2004-02-01</td>\n      <td>143.192000</td>\n      <td>2004</td>\n      <td>2</td>\n      <td>52275.666670</td>\n      <td>187875451.4</td>\n      <td>3.7</td>\n      <td>186.700</td>\n      <td>5.6</td>\n      <td>71.209732</td>\n      <td>153.400</td>\n      <td>1.01</td>\n      <td>79.8</td>\n      <td>112000</td>\n      <td>65760</td>\n      <td>27.201</td>\n      <td>12.3</td>\n    </tr>\n    <tr>\n      <th>2</th>\n      <td>2004-03-01</td>\n      <td>145.059000</td>\n      <td>2004</td>\n      <td>3</td>\n      <td>52372.333330</td>\n      <td>188057722.0</td>\n      <td>3.6</td>\n      <td>187.100</td>\n      <td>5.8</td>\n      <td>71.049780</td>\n      <td>156.500</td>\n      <td>1.00</td>\n      <td>79.8</td>\n      <td>112000</td>\n      <td>65760</td>\n      <td>27.201</td>\n      <td>12.3</td>\n    </tr>\n    <tr>\n      <th>3</th>\n      <td>2004-04-01</td>\n      <td>146.593000</td>\n      <td>2004</td>\n      <td>4</td>\n      <td>52469.000000</td>\n      <td>188320169.7</td>\n      <td>4.0</td>\n      <td>187.400</td>\n      <td>5.6</td>\n      <td>71.181759</td>\n      <td>160.100</td>\n      <td>1.00</td>\n      <td>79.8</td>\n      <td>112000</td>\n      <td>65760</td>\n      <td>27.201</td>\n      <td>12.3</td>\n    </tr>\n    <tr>\n      <th>4</th>\n      <td>2004-05-01</td>\n      <td>148.186000</td>\n      <td>2004</td>\n      <td>5</td>\n      <td>52591.000000</td>\n      <td>188475810.3</td>\n      <td>3.8</td>\n      <td>188.200</td>\n      <td>5.6</td>\n      <td>71.132043</td>\n      <td>162.700</td>\n      <td>1.00</td>\n      <td>79.8</td>\n      <td>112000</td>\n      <td>65760</td>\n      <td>27.201</td>\n      <td>12.3</td>\n    </tr>\n    <tr>\n      <th>...</th>\n      <td>...</td>\n      <td>...</td>\n      <td>...</td>\n      <td>...</td>\n      <td>...</td>\n      <td>...</td>\n      <td>...</td>\n      <td>...</td>\n      <td>...</td>\n      <td>...</td>\n      <td>...</td>\n      <td>...</td>\n      <td>...</td>\n      <td>...</td>\n      <td>...</td>\n      <td>...</td>\n      <td>...</td>\n    </tr>\n    <tr>\n      <th>241</th>\n      <td>2024-02-01</td>\n      <td>317.257000</td>\n      <td>2024</td>\n      <td>2</td>\n      <td>67804.666667</td>\n      <td>208655500.0</td>\n      <td>8.7</td>\n      <td>311.054</td>\n      <td>3.9</td>\n      <td>71.885520</td>\n      <td>337.766</td>\n      <td>5.33</td>\n      <td>83.2</td>\n      <td>131434</td>\n      <td>74580</td>\n      <td>48.021</td>\n      <td>17.6</td>\n    </tr>\n    <tr>\n      <th>242</th>\n      <td>2024-03-01</td>\n      <td>318.217000</td>\n      <td>2024</td>\n      <td>3</td>\n      <td>67937.333333</td>\n      <td>208606600.0</td>\n      <td>8.2</td>\n      <td>312.230</td>\n      <td>3.8</td>\n      <td>72.001760</td>\n      <td>330.965</td>\n      <td>5.33</td>\n      <td>83.2</td>\n      <td>131434</td>\n      <td>74580</td>\n      <td>48.021</td>\n      <td>17.6</td>\n    </tr>\n    <tr>\n      <th>243</th>\n      <td>2024-04-01</td>\n      <td>319.048000</td>\n      <td>2024</td>\n      <td>4</td>\n      <td>68070.000000</td>\n      <td>208586500.0</td>\n      <td>7.7</td>\n      <td>313.207</td>\n      <td>3.9</td>\n      <td>72.024910</td>\n      <td>330.166</td>\n      <td>5.33</td>\n      <td>83.2</td>\n      <td>131434</td>\n      <td>74580</td>\n      <td>48.021</td>\n      <td>17.6</td>\n    </tr>\n    <tr>\n      <th>244</th>\n      <td>2024-05-01</td>\n      <td>322.192825</td>\n      <td>2024</td>\n      <td>5</td>\n      <td>68070.000000</td>\n      <td>208855400.0</td>\n      <td>9.1</td>\n      <td>313.225</td>\n      <td>4.0</td>\n      <td>71.881100</td>\n      <td>329.342</td>\n      <td>5.33</td>\n      <td>83.2</td>\n      <td>131434</td>\n      <td>74580</td>\n      <td>48.021</td>\n      <td>17.6</td>\n    </tr>\n    <tr>\n      <th>245</th>\n      <td>2024-06-01</td>\n      <td>323.786723</td>\n      <td>2024</td>\n      <td>6</td>\n      <td>68070.000000</td>\n      <td>208928900.0</td>\n      <td>9.3</td>\n      <td>313.049</td>\n      <td>4.1</td>\n      <td>71.826060</td>\n      <td>328.995</td>\n      <td>5.33</td>\n      <td>83.2</td>\n      <td>131434</td>\n      <td>74580</td>\n      <td>48.021</td>\n      <td>17.6</td>\n    </tr>\n  </tbody>\n</table>\n<p>246 rows × 17 columns</p>\n</div>"
          },
          "metadata": {}
        }
      ],
      "execution_count": 144
    },
    {
      "cell_type": "code",
      "source": "print(\"Shape of the dataframe after preprocessing:- \", df.shape)",
      "metadata": {
        "trusted": true
      },
      "outputs": [
        {
          "name": "stdout",
          "text": "Shape of the dataframe after preprocessing:-  (246, 17)\n",
          "output_type": "stream"
        }
      ],
      "execution_count": 145
    },
    {
      "cell_type": "code",
      "source": "us_house_price_df = pd.read_csv('Us-Homedataset.csv').set_index(\"DATE\")\nus_house_price_df.head()",
      "metadata": {
        "trusted": true
      },
      "outputs": [
        {
          "execution_count": 160,
          "output_type": "execute_result",
          "data": {
            "text/plain": "            CSUSHPISA  Year  Month  Per_Capita_GDP  working_age_pop  Houses  \\\nDATE                                                                          \n2004-01-01    141.646  2004      1     52179.00000      187687969.2     3.8   \n2004-02-01    143.192  2004      2     52275.66667      187875451.4     3.7   \n2004-03-01    145.059  2004      3     52372.33333      188057722.0     3.6   \n2004-04-01    146.593  2004      4     52469.00000      188320169.7     4.0   \n2004-05-01    148.186  2004      5     52591.00000      188475810.3     3.8   \n\n              CPI  UNRATE    EmpRate  Cons_Material  FEDFUNDS  urban_pop_us  \\\nDATE                                                                          \n2004-01-01  186.3     5.7  71.278805          150.0      1.00          79.8   \n2004-02-01  186.7     5.6  71.209732          153.4      1.01          79.8   \n2004-03-01  187.1     5.8  71.049780          156.5      1.00          79.8   \n2004-04-01  187.4     5.6  71.181759          160.1      1.00          79.8   \n2004-05-01  188.2     5.6  71.132043          162.7      1.00          79.8   \n\n            Num_Households  median_income  Subsidy  old_age_pop  \nDATE                                                             \n2004-01-01          112000          65760   27.201         12.3  \n2004-02-01          112000          65760   27.201         12.3  \n2004-03-01          112000          65760   27.201         12.3  \n2004-04-01          112000          65760   27.201         12.3  \n2004-05-01          112000          65760   27.201         12.3  ",
            "text/html": "<div>\n<style scoped>\n    .dataframe tbody tr th:only-of-type {\n        vertical-align: middle;\n    }\n\n    .dataframe tbody tr th {\n        vertical-align: top;\n    }\n\n    .dataframe thead th {\n        text-align: right;\n    }\n</style>\n<table border=\"1\" class=\"dataframe\">\n  <thead>\n    <tr style=\"text-align: right;\">\n      <th></th>\n      <th>CSUSHPISA</th>\n      <th>Year</th>\n      <th>Month</th>\n      <th>Per_Capita_GDP</th>\n      <th>working_age_pop</th>\n      <th>Houses</th>\n      <th>CPI</th>\n      <th>UNRATE</th>\n      <th>EmpRate</th>\n      <th>Cons_Material</th>\n      <th>FEDFUNDS</th>\n      <th>urban_pop_us</th>\n      <th>Num_Households</th>\n      <th>median_income</th>\n      <th>Subsidy</th>\n      <th>old_age_pop</th>\n    </tr>\n    <tr>\n      <th>DATE</th>\n      <th></th>\n      <th></th>\n      <th></th>\n      <th></th>\n      <th></th>\n      <th></th>\n      <th></th>\n      <th></th>\n      <th></th>\n      <th></th>\n      <th></th>\n      <th></th>\n      <th></th>\n      <th></th>\n      <th></th>\n      <th></th>\n    </tr>\n  </thead>\n  <tbody>\n    <tr>\n      <th>2004-01-01</th>\n      <td>141.646</td>\n      <td>2004</td>\n      <td>1</td>\n      <td>52179.00000</td>\n      <td>187687969.2</td>\n      <td>3.8</td>\n      <td>186.3</td>\n      <td>5.7</td>\n      <td>71.278805</td>\n      <td>150.0</td>\n      <td>1.00</td>\n      <td>79.8</td>\n      <td>112000</td>\n      <td>65760</td>\n      <td>27.201</td>\n      <td>12.3</td>\n    </tr>\n    <tr>\n      <th>2004-02-01</th>\n      <td>143.192</td>\n      <td>2004</td>\n      <td>2</td>\n      <td>52275.66667</td>\n      <td>187875451.4</td>\n      <td>3.7</td>\n      <td>186.7</td>\n      <td>5.6</td>\n      <td>71.209732</td>\n      <td>153.4</td>\n      <td>1.01</td>\n      <td>79.8</td>\n      <td>112000</td>\n      <td>65760</td>\n      <td>27.201</td>\n      <td>12.3</td>\n    </tr>\n    <tr>\n      <th>2004-03-01</th>\n      <td>145.059</td>\n      <td>2004</td>\n      <td>3</td>\n      <td>52372.33333</td>\n      <td>188057722.0</td>\n      <td>3.6</td>\n      <td>187.1</td>\n      <td>5.8</td>\n      <td>71.049780</td>\n      <td>156.5</td>\n      <td>1.00</td>\n      <td>79.8</td>\n      <td>112000</td>\n      <td>65760</td>\n      <td>27.201</td>\n      <td>12.3</td>\n    </tr>\n    <tr>\n      <th>2004-04-01</th>\n      <td>146.593</td>\n      <td>2004</td>\n      <td>4</td>\n      <td>52469.00000</td>\n      <td>188320169.7</td>\n      <td>4.0</td>\n      <td>187.4</td>\n      <td>5.6</td>\n      <td>71.181759</td>\n      <td>160.1</td>\n      <td>1.00</td>\n      <td>79.8</td>\n      <td>112000</td>\n      <td>65760</td>\n      <td>27.201</td>\n      <td>12.3</td>\n    </tr>\n    <tr>\n      <th>2004-05-01</th>\n      <td>148.186</td>\n      <td>2004</td>\n      <td>5</td>\n      <td>52591.00000</td>\n      <td>188475810.3</td>\n      <td>3.8</td>\n      <td>188.2</td>\n      <td>5.6</td>\n      <td>71.132043</td>\n      <td>162.7</td>\n      <td>1.00</td>\n      <td>79.8</td>\n      <td>112000</td>\n      <td>65760</td>\n      <td>27.201</td>\n      <td>12.3</td>\n    </tr>\n  </tbody>\n</table>\n</div>"
          },
          "metadata": {}
        }
      ],
      "execution_count": 160
    },
    {
      "cell_type": "raw",
      "source": "This is our preprocessed datset. Let's save it as \"Us-Homedataset.csv\".",
      "metadata": {}
    },
    {
      "cell_type": "raw",
      "source": "Next Page",
      "metadata": {}
    }
  ]
}